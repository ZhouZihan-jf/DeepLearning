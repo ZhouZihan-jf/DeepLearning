{
  "nbformat": 4,
  "nbformat_minor": 0,
  "metadata": {
    "colab": {
      "private_outputs": true,
      "provenance": [],
      "collapsed_sections": [],
      "authorship_tag": "ABX9TyNltkd0pYwtMWuNuC3HJuqz",
      "include_colab_link": true
    },
    "kernelspec": {
      "name": "python3",
      "display_name": "Python 3"
    },
    "language_info": {
      "name": "python"
    },
    "accelerator": "GPU"
  },
  "cells": [
    {
      "cell_type": "markdown",
      "metadata": {
        "id": "view-in-github",
        "colab_type": "text"
      },
      "source": [
        "<a href=\"https://colab.research.google.com/github/justiceZhouzihan/DeepLearning/blob/main/VGG.ipynb\" target=\"_parent\"><img src=\"https://colab.research.google.com/assets/colab-badge.svg\" alt=\"Open In Colab\"/></a>"
      ]
    },
    {
      "cell_type": "code",
      "execution_count": null,
      "metadata": {
        "id": "nTsr_Kdp33zw"
      },
      "outputs": [],
      "source": [
        "!pip install d2l==0.14.\n",
        "import torch\n",
        "from torch import nn\n",
        "from d2l import torch as d2l\n",
        "\n",
        "\n",
        "def vgg_block(num_convs, in_channels, out_channels):\n",
        "    layers = []\n",
        "    for _ in range(num_convs):\n",
        "        layers.append(nn.Conv2d(in_channels, out_channels,\n",
        "                                kernel_size=3, padding=1))\n",
        "        layers.append(nn.ReLU())\n",
        "        in_channels = out_channels\n",
        "    layers.append(nn.MaxPool2d(kernel_size=2,stride=2))\n",
        "    return nn.Sequential(*layers)"
      ]
    },
    {
      "cell_type": "code",
      "source": [
        "conv_arch = ((1, 64), (1, 128), (2, 256), (2, 512), (2, 512))"
      ],
      "metadata": {
        "id": "SyTVHY5P5a5W"
      },
      "execution_count": null,
      "outputs": []
    },
    {
      "cell_type": "code",
      "source": [
        "def vgg(conv_arch):\n",
        "    conv_blks = []\n",
        "    in_channels = 1\n",
        "    # 卷积层部分\n",
        "    for (num_convs, out_channels) in conv_arch:\n",
        "        conv_blks.append(vgg_block(num_convs, in_channels, out_channels))\n",
        "        in_channels = out_channels\n",
        "\n",
        "    return nn.Sequential(\n",
        "        *conv_blks, nn.Flatten(),\n",
        "        # 全连接层部分\n",
        "        nn.Linear(out_channels * 7 * 7, 4096), nn.ReLU(), nn.Dropout(0.5),\n",
        "        nn.Linear(4096, 4096), nn.ReLU(), nn.Dropout(0.5),\n",
        "        nn.Linear(4096, 10))\n",
        "\n",
        "net = vgg(conv_arch)"
      ],
      "metadata": {
        "id": "LIWBabDY4Edn"
      },
      "execution_count": null,
      "outputs": []
    },
    {
      "cell_type": "code",
      "source": [
        "X = torch.randn(size=(1, 1, 224, 224))\n",
        "for blk in net:\n",
        "    X = blk(X)\n",
        "    print(blk.__class__.__name__,'output shape:\\t',X.shape)"
      ],
      "metadata": {
        "id": "2DNSlyer4M-4"
      },
      "execution_count": null,
      "outputs": []
    },
    {
      "cell_type": "code",
      "source": [
        "ratio = 4\n",
        "small_conv_arch = [(pair[0], pair[1] // ratio) for pair in conv_arch]\n",
        "net = vgg(small_conv_arch)"
      ],
      "metadata": {
        "id": "B96zx8I14XJv"
      },
      "execution_count": null,
      "outputs": []
    },
    {
      "cell_type": "code",
      "source": [
        "lr, num_epochs, batch_size = 0.05, 10, 128\n",
        "train_iter, test_iter = d2l.load_data_fashion_mnist(batch_size, resize=224)\n",
        "d2l.train_ch6(net, train_iter, test_iter, num_epochs, lr, d2l.try_gpu())"
      ],
      "metadata": {
        "id": "yhmM8Pyp4X0I"
      },
      "execution_count": null,
      "outputs": []
    }
  ]
}